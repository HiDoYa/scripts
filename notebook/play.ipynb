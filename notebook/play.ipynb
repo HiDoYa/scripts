{
 "cells": [
  {
   "cell_type": "code",
   "execution_count": 11,
   "id": "ebac1a43",
   "metadata": {},
   "outputs": [
    {
     "name": "stdout",
     "output_type": "stream",
     "text": [
      "\u001b[33mDEPRECATION: Configuring installation scheme with distutils config files is deprecated and will no longer work in the near future. If you are using a Homebrew or Linuxbrew Python, please see discussion at https://github.com/Homebrew/homebrew-core/issues/76621\u001b[0m\u001b[33m\n",
      "\u001b[0mRequirement already satisfied: pydantic in /usr/local/lib/python3.9/site-packages (1.10.4)\n",
      "Requirement already satisfied: urllib3 in /usr/local/lib/python3.9/site-packages (1.26.11)\n",
      "Requirement already satisfied: typing-extensions>=4.2.0 in /usr/local/lib/python3.9/site-packages (from pydantic) (4.3.0)\n",
      "\u001b[33mDEPRECATION: Configuring installation scheme with distutils config files is deprecated and will no longer work in the near future. If you are using a Homebrew or Linuxbrew Python, please see discussion at https://github.com/Homebrew/homebrew-core/issues/76621\u001b[0m\u001b[33m\n",
      "\u001b[0m\n",
      "\u001b[1m[\u001b[0m\u001b[34;49mnotice\u001b[0m\u001b[1;39;49m]\u001b[0m\u001b[39;49m A new release of pip available: \u001b[0m\u001b[31;49m22.3.1\u001b[0m\u001b[39;49m -> \u001b[0m\u001b[32;49m23.0\u001b[0m\n",
      "\u001b[1m[\u001b[0m\u001b[34;49mnotice\u001b[0m\u001b[1;39;49m]\u001b[0m\u001b[39;49m To update, run: \u001b[0m\u001b[32;49mpython3.9 -m pip install --upgrade pip\u001b[0m\n"
     ]
    }
   ],
   "source": [
    "# Install pydantic\n",
    "import sys\n",
    "!{sys.executable} -m pip install pydantic urllib3"
   ]
  },
  {
   "cell_type": "code",
   "execution_count": 40,
   "id": "8e8b908f",
   "metadata": {
    "scrolled": false
   },
   "outputs": [
    {
     "name": "stdout",
     "output_type": "stream",
     "text": [
      "name='nameB' new_field='abc'\n"
     ]
    }
   ],
   "source": [
    "# Pydantic override parent field\n",
    "from pydantic import BaseModel\n",
    "\n",
    "class A(BaseModel):\n",
    "    name: str = \"nameA\"\n",
    "    new_field: str\n",
    "        \n",
    "class B(A):\n",
    "    name: str = \"nameB\"\n",
    "    def __init__(self):\n",
    "        super().__init__(new_field=\"abc\")\n",
    "        \n",
    "b = B()\n",
    "print(b)\n"
   ]
  },
  {
   "cell_type": "code",
   "execution_count": 28,
   "id": "7ee4f2a3",
   "metadata": {},
   "outputs": [
    {
     "name": "stdout",
     "output_type": "stream",
     "text": [
      "[['a', 'b']]\n",
      "[['a', 'b'], 'a']\n",
      "[['a', 'b'], 'a']\n"
     ]
    }
   ],
   "source": [
    "# Pass list by reference\n",
    "\n",
    "def func1(ll):\n",
    "    ll.append(\"a\")\n",
    "    print(ll)\n",
    "\n",
    "ll = [[\"a\", \"b\"]]\n",
    "\n",
    "print(ll)\n",
    "\n",
    "func1(ll)\n",
    "print(ll)"
   ]
  },
  {
   "cell_type": "code",
   "execution_count": 25,
   "id": "4b628adb",
   "metadata": {},
   "outputs": [
    {
     "name": "stdout",
     "output_type": "stream",
     "text": [
      "<map object at 0x105aaff40>\n",
      "['spaghetti saucetest']\n",
      "[]\n"
     ]
    }
   ],
   "source": [
    "# Map/filter/lambda/generator behavior\n",
    "\n",
    "ll = [\"spaghetti\", \"sauce\", \"container\", \"12\", \"spaghetti sauce\"]\n",
    "\n",
    "temp = filter(lambda x: \"spaghetti\" in x, ll)\n",
    "temp = filter(lambda x: \"sauce\" in x, temp)\n",
    "temp = map(lambda x: x + \"test\", temp)\n",
    "\n",
    "print(temp)\n",
    "print(list(temp))\n",
    "print(list(temp))\n"
   ]
  },
  {
   "cell_type": "code",
   "execution_count": 13,
   "id": "b0fba149",
   "metadata": {},
   "outputs": [
    {
     "ename": "AttributeError",
     "evalue": "'Test' object has no attribute 'test'",
     "output_type": "error",
     "traceback": [
      "\u001b[0;31m---------------------------------------------------------------------------\u001b[0m",
      "\u001b[0;31mAttributeError\u001b[0m                            Traceback (most recent call last)",
      "Input \u001b[0;32mIn [13]\u001b[0m, in \u001b[0;36m<cell line: 11>\u001b[0;34m()\u001b[0m\n\u001b[1;32m      7\u001b[0m         \u001b[38;5;28mprint\u001b[39m(\u001b[38;5;28mself\u001b[39m\u001b[38;5;241m.\u001b[39mtest)\n\u001b[1;32m     10\u001b[0m la \u001b[38;5;241m=\u001b[39m Test()\n\u001b[0;32m---> 11\u001b[0m \u001b[43mla\u001b[49m\u001b[38;5;241;43m.\u001b[39;49m\u001b[43mprinting\u001b[49m\u001b[43m(\u001b[49m\u001b[43m)\u001b[49m\n",
      "Input \u001b[0;32mIn [13]\u001b[0m, in \u001b[0;36mTest.printing\u001b[0;34m(self)\u001b[0m\n\u001b[1;32m      6\u001b[0m \u001b[38;5;28;01mdef\u001b[39;00m \u001b[38;5;21mprinting\u001b[39m(\u001b[38;5;28mself\u001b[39m):\n\u001b[0;32m----> 7\u001b[0m     \u001b[38;5;28mprint\u001b[39m(\u001b[38;5;28;43mself\u001b[39;49m\u001b[38;5;241;43m.\u001b[39;49m\u001b[43mtest\u001b[49m)\n",
      "\u001b[0;31mAttributeError\u001b[0m: 'Test' object has no attribute 'test'"
     ]
    }
   ],
   "source": [
    "# Do instance variables get assigned None by default\n",
    "class Test:\n",
    "    def __init__(self):\n",
    "        if False:\n",
    "            self.test = 1\n",
    "            \n",
    "    def printing(self):\n",
    "        print(self.test)\n",
    "        \n",
    "\n",
    "la = Test()\n",
    "la.printing()"
   ]
  },
  {
   "cell_type": "code",
   "execution_count": 14,
   "id": "18f41261",
   "metadata": {},
   "outputs": [
    {
     "name": "stdout",
     "output_type": "stream",
     "text": [
      "k1 1\n",
      "k2 2\n",
      "k3 3\n",
      "{'k1': 5, 'k2': 5, 'k3': 5}\n"
     ]
    }
   ],
   "source": [
    "# Assignging to map during loop\n",
    "test = {\n",
    "    \"k1\": 1,\n",
    "    \"k2\": 2,\n",
    "    \"k3\": 3,\n",
    "}\n",
    "\n",
    "for key, val in test.items():\n",
    "    print(key, val)\n",
    "    test[key] = 5\n",
    "    \n",
    "print(test)\n"
   ]
  },
  {
   "cell_type": "code",
   "execution_count": 5,
   "id": "e3d4861c",
   "metadata": {},
   "outputs": [
    {
     "name": "stdout",
     "output_type": "stream",
     "text": [
      "[2]\n"
     ]
    }
   ],
   "source": [
    "# Filtering through list comprehension\n",
    "a = [1,2,3]\n",
    "b = [x for x in a if x == 2]\n",
    "\n",
    "print(b)"
   ]
  },
  {
   "cell_type": "code",
   "execution_count": 11,
   "id": "948c485a",
   "metadata": {},
   "outputs": [
    {
     "name": "stdout",
     "output_type": "stream",
     "text": [
      "This is setting up the function\n",
      "Running some tasks\n",
      "This is cleaning up the function\n"
     ]
    }
   ],
   "source": [
    "# Decorator usage\n",
    "def operation_maintainer(func):\n",
    "    def fn():\n",
    "        print(\"This is setting up the function\")\n",
    "        func()\n",
    "        print(\"This is cleaning up the function\")\n",
    "        \n",
    "    return fn\n",
    "\n",
    "@operation_maintainer\n",
    "def say_whee():\n",
    "    print(\"Running some tasks\")\n",
    "    \n",
    "say_whee()"
   ]
  },
  {
   "cell_type": "code",
   "execution_count": 13,
   "id": "0462cea0",
   "metadata": {},
   "outputs": [
    {
     "name": "stdout",
     "output_type": "stream",
     "text": [
      "orangetest\n",
      "orange juicetest\n",
      "lemontest\n"
     ]
    }
   ],
   "source": [
    "# Iterating over map\n",
    "a = [\"orange\", \"orange juice\", \"lemon\"]\n",
    "\n",
    "b = map(lambda x: x+\"test\", a)\n",
    "\n",
    "for ele in b:\n",
    "    print(ele)"
   ]
  },
  {
   "cell_type": "code",
   "execution_count": 20,
   "id": "fef61a14",
   "metadata": {},
   "outputs": [
    {
     "name": "stdout",
     "output_type": "stream",
     "text": [
      "val0val2\n",
      "val0val2\n",
      "val0val2\n"
     ]
    }
   ],
   "source": [
    "# 3 different ways to combine keys in dictionary\n",
    "def combine_keys1(keys, in_object):\n",
    "    return_string = str()\n",
    "    if len(keys) == 1:\n",
    "        return_string = in_object[keys[0]]\n",
    "    elif len(keys) > 1:\n",
    "        for key in keys:\n",
    "            return_string += in_object[key]\n",
    "    return return_string\n",
    "\n",
    "def combine_keys2(keys, inObject):\n",
    "    vals = map(lambda key: in_object[key], keys)\n",
    "    return_string = ''.join(vals)\n",
    "    return return_string\n",
    "    \n",
    "import functools\n",
    "def combine_keys3(keys, inObject):\n",
    "    return functools.reduce(lambda a, b: inObject[a] + inObject[b], keys)\n",
    "\n",
    "\n",
    "some_keys = [\"test0\", \"test2\"]\n",
    "some_dict = {\n",
    "    \"test0\": \"val0\", \n",
    "    \"test1\": \"val1\", \n",
    "    \"test2\": \"val2\", \n",
    "    \"test3\": \"val3\"\n",
    "} \n",
    "\n",
    "print(combine_keys1(some_keys, some_dict))\n",
    "print(combine_keys2(some_keys, some_dict))\n",
    "print(combine_keys3(some_keys, some_dict))\n"
   ]
  },
  {
   "cell_type": "code",
   "execution_count": 21,
   "id": "81e98c7c",
   "metadata": {
    "scrolled": true
   },
   "outputs": [
    {
     "name": "stdout",
     "output_type": "stream",
     "text": [
      "{'test0': 'val0', 'test1': 'val1', 'test2': 'val2', 'test3': 'val3', 'test20': ['val20']}\n"
     ]
    }
   ],
   "source": [
    "# Dictionary defualt value\n",
    "some_dict = {\n",
    "    \"test0\": \"val0\", \n",
    "    \"test1\": \"val1\", \n",
    "    \"test2\": \"val2\", \n",
    "    \"test3\": \"val3\"\n",
    "} \n",
    "\n",
    "some_dict.setdefault(\"test20\", []).append(\"val20\")\n",
    "\n",
    "print(some_dict)"
   ]
  },
  {
   "cell_type": "code",
   "execution_count": 36,
   "id": "b4176e09",
   "metadata": {},
   "outputs": [
    {
     "name": "stdout",
     "output_type": "stream",
     "text": [
      "<dict_keyiterator object at 0x10b740180>\n",
      "test0\n"
     ]
    }
   ],
   "source": [
    "# Manually iterate over dictionary\n",
    "some_dict = {\n",
    "    \"test0\": \"val0\", \n",
    "    \"test1\": \"val1\", \n",
    "    \"test2\": \"val2\", \n",
    "    \"test3\": \"val3\"\n",
    "} \n",
    "\n",
    "a = iter(some_dict)\n",
    "b = next(a)\n",
    "\n",
    "print(a)\n",
    "print(b)"
   ]
  },
  {
   "cell_type": "code",
   "execution_count": 18,
   "id": "d785452d",
   "metadata": {},
   "outputs": [
    {
     "name": "stdout",
     "output_type": "stream",
     "text": [
      "[0, 1, 2, 3, 4, 0, 1, 2]\n"
     ]
    }
   ],
   "source": [
    "# Adding ranges\n",
    "a = list(range(5)) + list(range(3))\n",
    "print(a)"
   ]
  },
  {
   "cell_type": "code",
   "execution_count": 5,
   "id": "eacf56e6",
   "metadata": {},
   "outputs": [
    {
     "name": "stdout",
     "output_type": "stream",
     "text": [
      "1\n",
      "abc\n",
      "1, abc\n"
     ]
    }
   ],
   "source": [
    "# Custom exception message behavior\n",
    "\n",
    "class TestException(Exception):\n",
    "    def __init__(self, a, b):\n",
    "        self.a = a\n",
    "        self.b = b\n",
    "        super().__init__(f\"{a}, {b}\")\n",
    "try:\n",
    "    raise TestException(a=1, b=\"abc\")\n",
    "except TestException as e:\n",
    "    print(e.a)\n",
    "    print(e.b)\n",
    "    print(e)"
   ]
  },
  {
   "cell_type": "code",
   "execution_count": 8,
   "id": "1ffd234e",
   "metadata": {},
   "outputs": [
    {
     "name": "stdout",
     "output_type": "stream",
     "text": [
      "2023-01-19 10:10:10.993136\n"
     ]
    }
   ],
   "source": [
    "# Default string format for datetime\n",
    "from datetime import datetime\n",
    "\n",
    "now = datetime.now()\n",
    "noww = str(now)\n",
    "\n",
    "print(noww)"
   ]
  },
  {
   "cell_type": "code",
   "execution_count": 17,
   "id": "6b529037",
   "metadata": {},
   "outputs": [
    {
     "name": "stdout",
     "output_type": "stream",
     "text": [
      "[1, 2, 3]\n"
     ]
    }
   ],
   "source": [
    "# Chaining commands together\n",
    "class A:\n",
    "    def __init__(self):\n",
    "        self.test = [1]\n",
    "\n",
    "    def add1(self):\n",
    "        self.test.append(2)\n",
    "        return self\n",
    "\n",
    "    def add2(self):\n",
    "        self.test.append(3)\n",
    "        return self\n",
    "    \n",
    "    def get(self):\n",
    "        return self.test\n",
    "\n",
    "\n",
    "a = A().add1().add2().get()\n",
    "print(a)"
   ]
  },
  {
   "cell_type": "code",
   "execution_count": 15,
   "id": "2db18fe4",
   "metadata": {},
   "outputs": [
    {
     "name": "stdout",
     "output_type": "stream",
     "text": [
      "123 in inner\n",
      "{} in inner\n",
      "123 in outer\n",
      "{} in outer\n"
     ]
    }
   ],
   "source": [
    "# Changing args/kwargs in an inner function does not change it in outer function\n",
    "def outer(*args, **kwargs):\n",
    "    inner(*args, **kwargs)\n",
    "\n",
    "    l = kwargs.pop(\"test\", None)\n",
    "    print(f\"{l} in outer\")\n",
    "    print(f\"{kwargs} in outer\")\n",
    "\n",
    "def inner(*args, **kwargs):\n",
    "    l = kwargs.pop(\"test\", None)\n",
    "    print(f\"{l} in inner\")\n",
    "    print(f\"{kwargs} in inner\")\n",
    "\n",
    "outer(test=123)"
   ]
  },
  {
   "cell_type": "code",
   "execution_count": 51,
   "id": "73af300d",
   "metadata": {},
   "outputs": [
    {
     "name": "stdout",
     "output_type": "stream",
     "text": [
      "ZeroDivisionError('test')\n"
     ]
    }
   ],
   "source": [
    "# Raising exception manually\n",
    "import traceback\n",
    "\n",
    "def funca():\n",
    "    e = repr(ZeroDivisionError(\"test\"))\n",
    "    print(e)\n",
    "\n",
    "def funcb():\n",
    "    funca()\n",
    "\n",
    "funcb()"
   ]
  },
  {
   "cell_type": "code",
   "execution_count": 1,
   "id": "2387c197",
   "metadata": {},
   "outputs": [
    {
     "ename": "TypeError",
     "evalue": "unsupported operand type(s) for +: 'dict' and 'dict'",
     "output_type": "error",
     "traceback": [
      "\u001b[0;31m---------------------------------------------------------------------------\u001b[0m",
      "\u001b[0;31mTypeError\u001b[0m                                 Traceback (most recent call last)",
      "Input \u001b[0;32mIn [1]\u001b[0m, in \u001b[0;36m<cell line: 12>\u001b[0;34m()\u001b[0m\n\u001b[1;32m      2\u001b[0m dict1 \u001b[38;5;241m=\u001b[39m {\n\u001b[1;32m      3\u001b[0m     \u001b[38;5;124m\"\u001b[39m\u001b[38;5;124ma\u001b[39m\u001b[38;5;124m\"\u001b[39m: [\u001b[38;5;241m123\u001b[39m],\n\u001b[1;32m      4\u001b[0m     \u001b[38;5;124m\"\u001b[39m\u001b[38;5;124mb\u001b[39m\u001b[38;5;124m\"\u001b[39m: [\u001b[38;5;241m1\u001b[39m,\u001b[38;5;241m2\u001b[39m,\u001b[38;5;241m3\u001b[39m],\n\u001b[1;32m      5\u001b[0m }\n\u001b[1;32m      7\u001b[0m dict2 \u001b[38;5;241m=\u001b[39m {\n\u001b[1;32m      8\u001b[0m     \u001b[38;5;124m\"\u001b[39m\u001b[38;5;124ma\u001b[39m\u001b[38;5;124m\"\u001b[39m: [\u001b[38;5;241m456\u001b[39m],\n\u001b[1;32m      9\u001b[0m     \u001b[38;5;124m\"\u001b[39m\u001b[38;5;124mb\u001b[39m\u001b[38;5;124m\"\u001b[39m: [],\n\u001b[1;32m     10\u001b[0m }\n\u001b[0;32m---> 12\u001b[0m dictsum \u001b[38;5;241m=\u001b[39m \u001b[43mdict1\u001b[49m\u001b[43m \u001b[49m\u001b[38;5;241;43m+\u001b[39;49m\u001b[43m \u001b[49m\u001b[43mdict2\u001b[49m\n\u001b[1;32m     13\u001b[0m \u001b[38;5;28mprint\u001b[39m(dictsum)\n",
      "\u001b[0;31mTypeError\u001b[0m: unsupported operand type(s) for +: 'dict' and 'dict'"
     ]
    }
   ],
   "source": [
    "# Adding dictionaries\n",
    "dict1 = {\n",
    "    \"a\": [123],\n",
    "    \"b\": [1,2,3],\n",
    "}\n",
    "\n",
    "dict2 = {\n",
    "    \"a\": [456],\n",
    "    \"b\": [],\n",
    "}\n",
    "\n",
    "dictsum = dict1 + dict2\n",
    "print(dictsum)"
   ]
  },
  {
   "cell_type": "code",
   "execution_count": 4,
   "id": "5d319249",
   "metadata": {},
   "outputs": [
    {
     "name": "stdout",
     "output_type": "stream",
     "text": [
      "1\n",
      "1\n",
      "2\n"
     ]
    }
   ],
   "source": [
    "# Walrus operator\n",
    "if a := 1:\n",
    "    print(a)\n",
    "print(a)\n",
    "\n",
    "\n",
    "if not (a := 2):\n",
    "    print(a)\n",
    "print(a)"
   ]
  },
  {
   "cell_type": "code",
   "execution_count": 5,
   "id": "0880a938",
   "metadata": {},
   "outputs": [
    {
     "name": "stdout",
     "output_type": "stream",
     "text": [
      "[1, 2, 3]\n"
     ]
    }
   ],
   "source": [
    "# If condition in list comp\n",
    "ll = [1, 2, None ,3]\n",
    "\n",
    "subl = [l for l in ll if l]\n",
    "print(subl)"
   ]
  },
  {
   "cell_type": "code",
   "execution_count": 4,
   "id": "fcae196a",
   "metadata": {},
   "outputs": [
    {
     "name": "stdout",
     "output_type": "stream",
     "text": [
      "123 (1, 2, 3) 456\n"
     ]
    }
   ],
   "source": [
    "# Format of *args as string\n",
    "def abc(*args):\n",
    "    pp = f\"123 {args} 456\"\n",
    "    print(pp)\n",
    "    \n",
    "    \n",
    "abc(1,2,3)"
   ]
  },
  {
   "cell_type": "code",
   "execution_count": null,
   "id": "705d5e74",
   "metadata": {},
   "outputs": [],
   "source": [
    "# Multiple comparisons\n",
    "1 <= 2 <= 3"
   ]
  },
  {
   "cell_type": "code",
   "execution_count": 1,
   "id": "fd53ec50",
   "metadata": {},
   "outputs": [
    {
     "data": {
      "text/plain": [
       "[[3, 4], [3, 4], [3, 4]]"
      ]
     },
     "execution_count": 1,
     "metadata": {},
     "output_type": "execute_result"
    }
   ],
   "source": [
    "# For loop syntax\n",
    "[[3,4] for x in ('a','b','c')]"
   ]
  },
  {
   "cell_type": "code",
   "execution_count": 1,
   "id": "cf85eda5",
   "metadata": {},
   "outputs": [
    {
     "name": "stdout",
     "output_type": "stream",
     "text": [
      "933055201\n",
      "914786151\n",
      "1249975000\n",
      "1249975000\n",
      "1249975000\n",
      "1101001275\n",
      "1249975000\n",
      "1115360065\n",
      "736339500\n",
      "402244066\n",
      "1015945426\n",
      "1242436476\n",
      "680823450\n",
      "646219225\n",
      "1249975000\n"
     ]
    }
   ],
   "source": [
    "# Data race\n",
    "\n",
    "import threading\n",
    "import time\n",
    "\n",
    "\n",
    "class A:\n",
    "    internal_data = []\n",
    "\n",
    "    def loop_populate(self):\n",
    "        while True:\n",
    "            self.populate()\n",
    "            time.sleep(0.5)\n",
    "\n",
    "    def populate(self):\n",
    "        self.internal_data = []\n",
    "        for i in range(50000):\n",
    "            self.internal_data.append(i)\n",
    "\n",
    "    def sum(self):\n",
    "        sum = 0\n",
    "        for i in self.internal_data:\n",
    "            sum += i\n",
    "        print(sum)\n",
    "\n",
    "\n",
    "def main():\n",
    "    a = A()\n",
    "    a_thread = threading.Thread(target=a.loop_populate, args=())\n",
    "    a_thread.start()\n",
    "\n",
    "    for i in range(15):\n",
    "        a.sum()\n",
    "        time.sleep(0.5)\n",
    "\n",
    "\n",
    "main()\n"
   ]
  },
  {
   "cell_type": "code",
   "execution_count": 5,
   "id": "efd4cf65",
   "metadata": {},
   "outputs": [
    {
     "name": "stdout",
     "output_type": "stream",
     "text": [
      "Entered\n",
      "HERE\n",
      "Exited\n"
     ]
    }
   ],
   "source": [
    "class Test():\n",
    "    def __enter__(self):\n",
    "        print(\"Entered\")\n",
    "\n",
    "    def __exit__(self, exc_type, exc_value, exc_tb):\n",
    "        print(\"Exited\")\n",
    "\n",
    "with Test() as t:\n",
    "    print(\"Inside context manager\")"
   ]
  },
  {
   "cell_type": "code",
   "execution_count": 7,
   "id": "e4b6f186",
   "metadata": {},
   "outputs": [
    {
     "name": "stdout",
     "output_type": "stream",
     "text": [
      "test1\n",
      "test2\n"
     ]
    }
   ],
   "source": [
    "class Test:\n",
    "    def test1(self):\n",
    "        print(\"test1\")\n",
    "    \n",
    "    def test2(self):\n",
    "        print(\"test2\")\n",
    "        \n",
    "        \n",
    "t = Test()\n",
    "t.test1()\n",
    "t.test1 = lambda: None\n",
    "t.test1()\n",
    "t.test2()"
   ]
  },
  {
   "cell_type": "code",
   "execution_count": null,
   "id": "f31a603c",
   "metadata": {},
   "outputs": [],
   "source": []
  }
 ],
 "metadata": {
  "kernelspec": {
   "display_name": "Python 3 (ipykernel)",
   "language": "python",
   "name": "python3"
  },
  "language_info": {
   "codemirror_mode": {
    "name": "ipython",
    "version": 3
   },
   "file_extension": ".py",
   "mimetype": "text/x-python",
   "name": "python",
   "nbconvert_exporter": "python",
   "pygments_lexer": "ipython3",
   "version": "3.9.16"
  }
 },
 "nbformat": 4,
 "nbformat_minor": 5
}
